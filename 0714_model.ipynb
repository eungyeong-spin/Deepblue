{
 "cells": [
  {
   "cell_type": "code",
   "execution_count": 1,
   "id": "8f35f3d6",
   "metadata": {},
   "outputs": [],
   "source": [
    "import numpy as np\n",
    "from tensorflow.keras import models\n",
    "from tensorflow.keras import layers\n",
    "from tensorflow.keras import Input\n",
    "import pandas as pd\n",
    "\n",
    "PAT = pd.read_csv('PAT.txt', sep = \"\\n\", engine='python')\n",
    "APG = pd.read_csv('APG.txt', sep = \"\\n\", engine='python')\n",
    "APG_itv = pd.read_csv('APG_itv.txt', sep = \"\\n\", engine='python')\n",
    "R = pd.read_csv('R.txt', sep = \"\\n\", engine='python')\n",
    "R_itv = pd.read_csv('R_itv.txt', sep = \"\\n\", engine='python')\n",
    "\n",
    "input_features = pd.concat([PAT, APG, APG_itv, R, R_itv], axis=1)\n",
    "\n",
    "SBP = pd.read_csv('SBP.txt', sep = \"\\n\", engine='python')\n",
    "DBP = pd.read_csv('DBP.txt', sep = \"\\n\", engine='python')\n",
    "\n",
    "#ABP = pd.concat([SBP, DBP], axis = 1)\n",
    "train_index = int(0.7*len(PAT))\n",
    "\n",
    "x_train = input_features.iloc[:train_index]\n",
    "x_test = input_features.iloc[train_index:]\n",
    "sbp_train = SBP.iloc[:train_index]\n",
    "sbp_test = SBP.iloc[train_index:]\n",
    "dbp_train = DBP.iloc[:train_index]\n",
    "dbp_test = DBP.iloc[train_index:]"
   ]
  },
  {
   "cell_type": "code",
   "execution_count": 8,
   "id": "f7710e6f",
   "metadata": {},
   "outputs": [
    {
     "name": "stdout",
     "output_type": "stream",
     "text": [
      "          PAT     APG  APG_itv       R  R_itv\n",
      "0       0.624  0.0153    0.208  0.8386  0.720\n",
      "1       0.112  0.0902    1.232  0.8228  0.728\n",
      "2       0.616  0.0190    0.832  0.6578  0.720\n",
      "3       0.728  0.0256    0.624  0.4933  0.736\n",
      "4       0.616  0.0188    0.736  0.4854  0.728\n",
      "...       ...     ...      ...     ...    ...\n",
      "137596  0.344  0.0040    0.408  0.8556  0.440\n",
      "137597  0.312  0.0040    0.384  0.7776  0.432\n",
      "137598  0.264  0.0040    0.560  0.8174  0.352\n",
      "137599  0.472  0.0040    0.376  0.7289  0.536\n",
      "137600  0.312  0.0039    0.088  0.7543  0.360\n",
      "\n",
      "[137601 rows x 5 columns]\n",
      "2\n"
     ]
    }
   ],
   "source": [
    "print(input_features)\n",
    "print(x_train.ndim)"
   ]
  },
  {
   "cell_type": "code",
   "execution_count": 12,
   "id": "56fab863",
   "metadata": {},
   "outputs": [
    {
     "name": "stdout",
     "output_type": "stream",
     "text": [
      "Model: \"model_4\"\n",
      "__________________________________________________________________________________________________\n",
      "Layer (type)                    Output Shape         Param #     Connected to                     \n",
      "==================================================================================================\n",
      "x_input (InputLayer)            [(None, 5)]          0                                            \n",
      "__________________________________________________________________________________________________\n",
      "dense_8 (Dense)                 (None, 64)           384         x_input[0][0]                    \n",
      "__________________________________________________________________________________________________\n",
      "dense_9 (Dense)                 (None, 64)           4160        dense_8[0][0]                    \n",
      "__________________________________________________________________________________________________\n",
      "dense_10 (Dense)                (None, 64)           4160        dense_9[0][0]                    \n",
      "__________________________________________________________________________________________________\n",
      "SBP (Dense)                     (None, 1)            65          dense_10[0][0]                   \n",
      "__________________________________________________________________________________________________\n",
      "DBP (Dense)                     (None, 1)            65          dense_10[0][0]                   \n",
      "==================================================================================================\n",
      "Total params: 8,834\n",
      "Trainable params: 8,834\n",
      "Non-trainable params: 0\n",
      "__________________________________________________________________________________________________\n"
     ]
    }
   ],
   "source": [
    "###first\n",
    "x_input = Input(shape=(5,), name='x_input')\n",
    "x = layers.Dense(64, activation='relu')(x_input)\n",
    "x = layers.Dense(64, activation='relu')(x)\n",
    "x = layers.Dense(64, activation='relu')(x)\n",
    "sbp_prediction  = layers.Dense(1, name='SBP')(x)\n",
    "dbp_prediction = layers.Dense(1, name='DBP')(x)\n",
    "\n",
    "model = models.Model(x_input, [sbp_prediction, dbp_prediction])\n",
    "model.summary()"
   ]
  },
  {
   "cell_type": "code",
   "execution_count": 13,
   "id": "4768f42e",
   "metadata": {},
   "outputs": [],
   "source": [
    "model.compile(optimizer='rmsprop', loss='mse')"
   ]
  },
  {
   "cell_type": "code",
   "execution_count": 14,
   "id": "0e6a4e2d",
   "metadata": {
    "scrolled": false
   },
   "outputs": [
    {
     "name": "stdout",
     "output_type": "stream",
     "text": [
      "Epoch 1/50\n",
      "6020/6020 [==============================] - 8s 1ms/step - loss: 338.9785 - SBP_loss: 263.2660 - DBP_loss: 75.7130\n",
      "Epoch 2/50\n",
      "6020/6020 [==============================] - 6s 1ms/step - loss: 128.5522 - SBP_loss: 102.8119 - DBP_loss: 25.7405\n",
      "Epoch 3/50\n",
      "6020/6020 [==============================] - 6s 1ms/step - loss: 119.3240 - SBP_loss: 95.8522 - DBP_loss: 23.4718\n",
      "Epoch 4/50\n",
      "6020/6020 [==============================] - 6s 1ms/step - loss: 115.2354 - SBP_loss: 92.2778 - DBP_loss: 22.9575\n",
      "Epoch 5/50\n",
      "6020/6020 [==============================] - 6s 1ms/step - loss: 109.5850 - SBP_loss: 87.7143 - DBP_loss: 21.8707\n",
      "Epoch 6/50\n",
      "6020/6020 [==============================] - 7s 1ms/step - loss: 102.1282 - SBP_loss: 81.9960 - DBP_loss: 20.1321\n",
      "Epoch 7/50\n",
      "6020/6020 [==============================] - 6s 1ms/step - loss: 96.3885 - SBP_loss: 77.7328 - DBP_loss: 18.6560\n",
      "Epoch 8/50\n",
      "6020/6020 [==============================] - 6s 1ms/step - loss: 91.9023 - SBP_loss: 74.1057 - DBP_loss: 17.7968\n",
      "Epoch 9/50\n",
      "6020/6020 [==============================] - 8s 1ms/step - loss: 88.0564 - SBP_loss: 71.0670 - DBP_loss: 16.9894\n",
      "Epoch 10/50\n",
      "6020/6020 [==============================] - 7s 1ms/step - loss: 84.8443 - SBP_loss: 68.3476 - DBP_loss: 16.4964\n",
      "Epoch 11/50\n",
      "6020/6020 [==============================] - 7s 1ms/step - loss: 82.7215 - SBP_loss: 66.6316 - DBP_loss: 16.0900\n",
      "Epoch 12/50\n",
      "6020/6020 [==============================] - 6s 1ms/step - loss: 80.7022 - SBP_loss: 65.0369 - DBP_loss: 15.6654\n",
      "Epoch 13/50\n",
      "6020/6020 [==============================] - 6s 1ms/step - loss: 79.0902 - SBP_loss: 63.7870 - DBP_loss: 15.3029\n",
      "Epoch 14/50\n",
      "6020/6020 [==============================] - 6s 1ms/step - loss: 78.1809 - SBP_loss: 63.0209 - DBP_loss: 15.1601\n",
      "Epoch 15/50\n",
      "6020/6020 [==============================] - 6s 1ms/step - loss: 76.9944 - SBP_loss: 62.1533 - DBP_loss: 14.8412\n",
      "Epoch 16/50\n",
      "6020/6020 [==============================] - 6s 1ms/step - loss: 75.9098 - SBP_loss: 61.2255 - DBP_loss: 14.6843\n",
      "Epoch 17/50\n",
      "6020/6020 [==============================] - 7s 1ms/step - loss: 75.1220 - SBP_loss: 60.5958 - DBP_loss: 14.5263\n",
      "Epoch 18/50\n",
      "6020/6020 [==============================] - 7s 1ms/step - loss: 74.0219 - SBP_loss: 59.8004 - DBP_loss: 14.2215\n",
      "Epoch 19/50\n",
      "6020/6020 [==============================] - 7s 1ms/step - loss: 73.4668 - SBP_loss: 59.3815 - DBP_loss: 14.0852\n",
      "Epoch 20/50\n",
      "6020/6020 [==============================] - 7s 1ms/step - loss: 72.7722 - SBP_loss: 58.8338 - DBP_loss: 13.9383\n",
      "Epoch 21/50\n",
      "6020/6020 [==============================] - 7s 1ms/step - loss: 71.8309 - SBP_loss: 58.0922 - DBP_loss: 13.7387\n",
      "Epoch 22/50\n",
      "6020/6020 [==============================] - 7s 1ms/step - loss: 71.1624 - SBP_loss: 57.5256 - DBP_loss: 13.6367\n",
      "Epoch 23/50\n",
      "6020/6020 [==============================] - 7s 1ms/step - loss: 70.4668 - SBP_loss: 56.9764 - DBP_loss: 13.4904\n",
      "Epoch 24/50\n",
      "6020/6020 [==============================] - 6s 1ms/step - loss: 69.7385 - SBP_loss: 56.4286 - DBP_loss: 13.3099\n",
      "Epoch 25/50\n",
      "6020/6020 [==============================] - 7s 1ms/step - loss: 69.4818 - SBP_loss: 56.2747 - DBP_loss: 13.2071\n",
      "Epoch 26/50\n",
      "6020/6020 [==============================] - 7s 1ms/step - loss: 68.9224 - SBP_loss: 55.7971 - DBP_loss: 13.1251\n",
      "Epoch 27/50\n",
      "6020/6020 [==============================] - 11s 2ms/step - loss: 68.3914 - SBP_loss: 55.3930 - DBP_loss: 12.9985\n",
      "Epoch 28/50\n",
      "6020/6020 [==============================] - 12s 2ms/step - loss: 68.0518 - SBP_loss: 55.1801 - DBP_loss: 12.8717\n",
      "Epoch 29/50\n",
      "6020/6020 [==============================] - 7s 1ms/step - loss: 67.4818 - SBP_loss: 54.7215 - DBP_loss: 12.7603\n",
      "Epoch 30/50\n",
      "6020/6020 [==============================] - 10s 2ms/step - loss: 67.1107 - SBP_loss: 54.4450 - DBP_loss: 12.6659\n",
      "Epoch 31/50\n",
      "6020/6020 [==============================] - 7s 1ms/step - loss: 66.8311 - SBP_loss: 54.2578 - DBP_loss: 12.5733\n",
      "Epoch 32/50\n",
      "6020/6020 [==============================] - 7s 1ms/step - loss: 66.4246 - SBP_loss: 53.9784 - DBP_loss: 12.4461\n",
      "Epoch 33/50\n",
      "6020/6020 [==============================] - 7s 1ms/step - loss: 66.1365 - SBP_loss: 53.7389 - DBP_loss: 12.3978\n",
      "Epoch 34/50\n",
      "6020/6020 [==============================] - 8s 1ms/step - loss: 66.1206 - SBP_loss: 53.7365 - DBP_loss: 12.3842\n",
      "Epoch 35/50\n",
      "6020/6020 [==============================] - 8s 1ms/step - loss: 65.9632 - SBP_loss: 53.5999 - DBP_loss: 12.3634\n",
      "Epoch 36/50\n",
      "6020/6020 [==============================] - 7s 1ms/step - loss: 65.4436 - SBP_loss: 53.2026 - DBP_loss: 12.2409\n",
      "Epoch 37/50\n",
      "6020/6020 [==============================] - 7s 1ms/step - loss: 65.4056 - SBP_loss: 53.2274 - DBP_loss: 12.1781\n",
      "Epoch 38/50\n",
      "6020/6020 [==============================] - 7s 1ms/step - loss: 65.0422 - SBP_loss: 52.9447 - DBP_loss: 12.0976\n",
      "Epoch 39/50\n",
      "6020/6020 [==============================] - 7s 1ms/step - loss: 64.8046 - SBP_loss: 52.7882 - DBP_loss: 12.0164\n",
      "Epoch 40/50\n",
      "6020/6020 [==============================] - 8s 1ms/step - loss: 64.5936 - SBP_loss: 52.6378 - DBP_loss: 11.9558\n",
      "Epoch 41/50\n",
      "6020/6020 [==============================] - 7s 1ms/step - loss: 64.4570 - SBP_loss: 52.5224 - DBP_loss: 11.9348\n",
      "Epoch 42/50\n",
      "6020/6020 [==============================] - 8s 1ms/step - loss: 64.1224 - SBP_loss: 52.2273 - DBP_loss: 11.8951\n",
      "Epoch 43/50\n",
      "6020/6020 [==============================] - 7s 1ms/step - loss: 64.2746 - SBP_loss: 52.4446 - DBP_loss: 11.8300\n",
      "Epoch 44/50\n",
      "6020/6020 [==============================] - 7s 1ms/step - loss: 63.6560 - SBP_loss: 51.8737 - DBP_loss: 11.7822\n",
      "Epoch 45/50\n",
      "6020/6020 [==============================] - 8s 1ms/step - loss: 63.4618 - SBP_loss: 51.7265 - DBP_loss: 11.7354\n",
      "Epoch 46/50\n",
      "6020/6020 [==============================] - 9s 2ms/step - loss: 63.2620 - SBP_loss: 51.6183 - DBP_loss: 11.6440\n",
      "Epoch 47/50\n",
      "6020/6020 [==============================] - 8s 1ms/step - loss: 62.8612 - SBP_loss: 51.3000 - DBP_loss: 11.5612\n",
      "Epoch 48/50\n",
      "6020/6020 [==============================] - 7s 1ms/step - loss: 62.8116 - SBP_loss: 51.2886 - DBP_loss: 11.5231\n",
      "Epoch 49/50\n",
      "6020/6020 [==============================] - 9s 1ms/step - loss: 62.6550 - SBP_loss: 51.1650 - DBP_loss: 11.4900\n",
      "Epoch 50/50\n",
      "6020/6020 [==============================] - 9s 1ms/step - loss: 62.4938 - SBP_loss: 51.0430 - DBP_loss: 11.4507\n"
     ]
    }
   ],
   "source": [
    "hist = model.fit(x_train, [sbp_train, dbp_train], epochs=50, batch_size=16)"
   ]
  },
  {
   "cell_type": "code",
   "execution_count": 15,
   "id": "345a7897",
   "metadata": {},
   "outputs": [
    {
     "data": {
      "image/png": "[encoded data removed]",
      "text/plain": [
       "<Figure size 432x288 with 1 Axes>"
      ]
     },
     "metadata": {
      "needs_background": "light"
     },
     "output_type": "display_data"
    }
   ],
   "source": [
    "import matplotlib.pyplot as plt\n",
    "\n",
    "plt.plot(hist.history['loss'])\n",
    "plt.ylim(0.0, 300)\n",
    "plt.ylabel('loss')\n",
    "plt.xlabel('epoch')\n",
    "plt.legend(['train'], loc='upper left')\n",
    "plt.show()"
   ]
  },
  {
   "cell_type": "code",
   "execution_count": 17,
   "id": "d319a12d",
   "metadata": {},
   "outputs": [
    {
     "name": "stdout",
     "output_type": "stream",
     "text": [
      "2581/2581 [==============================] - 2s 767us/step - loss: 1562.5070 - SBP_loss: 1279.6157 - DBP_loss: 282.8943\n",
      "loss : [1562.5069580078125, 1279.61572265625, 282.89434814453125]\n"
     ]
    }
   ],
   "source": [
    "loss = model.evaluate(x_test, [sbp_test, dbp_test], batch_size=16)\n",
    "print('loss : ' + str(loss))"
   ]
  },
  {
   "cell_type": "code",
   "execution_count": 20,
   "id": "f23c0faa",
   "metadata": {},
   "outputs": [
    {
     "data": {
      "image/png": "[encoded data removed]",
      "text/plain": [
       "<Figure size 432x288 with 1 Axes>"
      ]
     },
     "metadata": {
      "needs_background": "light"
     },
     "output_type": "display_data"
    }
   ],
   "source": [
    "y_pred = model.predict(x_test)\n",
    "pat_test = x_test.iloc[:,0]\n",
    "sbp_test_pred = y_pred[0]\n",
    "dbp_test_pred = y_pred[1]\n",
    "plt.scatter(pat_test, sbp_test_pred-sbp_test, c='blue', marker='o', label='SBP')\n",
    "plt.scatter(pat_test, dbp_test_pred-dbp_test, c='lightgreen', marker='o', label='DBP')\n",
    "plt.xlabel('predict')\n",
    "plt.ylabel('residual')\n",
    "plt.hlines(y=0, xmin=-10, xmax=50, lw=2, color='red')\n",
    "plt.xlim([0,1.5])\n",
    "plt.legend(loc=2)\n",
    "plt.show()"
   ]
  },
  {
   "cell_type": "code",
   "execution_count": 22,
   "id": "aa686936",
   "metadata": {},
   "outputs": [
    {
     "name": "stdout",
     "output_type": "stream",
     "text": [
      "True : \n",
      "SBP    126.1164\n",
      "Name: 96635, dtype: float64\n",
      "DBP    72.8835\n",
      "Name: 96635, dtype: float64\n",
      "Predict:\n",
      "SBP   [115.051605]\n",
      "DBP   [64.79355]\n",
      "True : \n",
      "SBP    124.7784\n",
      "Name: 96415, dtype: float64\n",
      "DBP    73.1186\n",
      "Name: 96415, dtype: float64\n",
      "Predict:\n",
      "SBP   [114.35159]\n",
      "DBP   [63.912067]\n",
      "True : \n",
      "SBP    123.2828\n",
      "Name: 97568, dtype: float64\n",
      "DBP    73.0903\n",
      "Name: 97568, dtype: float64\n",
      "Predict:\n",
      "SBP   [115.25069]\n",
      "DBP   [61.988297]\n"
     ]
    }
   ],
   "source": [
    "xhat_idx = [315, 95, 1248]\n",
    "xhat = x_test.iloc[xhat_idx]\n",
    "yhat = model.predict(xhat)\n",
    "shat = sbp_test.iloc[xhat_idx]\n",
    "dhat = dbp_test.iloc[xhat_idx]\n",
    "\n",
    "for i in range(3):\n",
    "    print('True : \\n' + str(shat.iloc[i]) + '\\n' + str(dhat.iloc[i]))\n",
    "    print('Predict:\\n' + 'SBP   ' + str(yhat[0][i]) + '\\nDBP   ' + str(yhat[1][i]))"
   ]
  },
  {
   "cell_type": "code",
   "execution_count": 23,
   "id": "01659d43",
   "metadata": {},
   "outputs": [],
   "source": [
    "model.save('ECG_PPG_ABP.h5')"
   ]
  },
  {
   "cell_type": "code",
   "execution_count": null,
   "id": "e57622d6",
   "metadata": {},
   "outputs": [],
   "source": []
  }
 ],
 "metadata": {
  "kernelspec": {
   "display_name": "Python 3",
   "language": "python",
   "name": "python3"
  },
  "language_info": {
   "codemirror_mode": {
    "name": "ipython",
    "version": 3
   },
   "file_extension": ".py",
   "mimetype": "text/x-python",
   "name": "python",
   "nbconvert_exporter": "python",
   "pygments_lexer": "ipython3",
   "version": "3.8.8"
  }
 },
 "nbformat": 4,
 "nbformat_minor": 5
}
