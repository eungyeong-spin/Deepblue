{
 "cells": [
  {
   "cell_type": "code",
   "execution_count": 1,
   "id": "3a9c872c",
   "metadata": {
    "scrolled": true
   },
   "outputs": [],
   "source": [
    "import numpy as np\n",
    "from tensorflow.keras import models\n",
    "from tensorflow.keras import layers\n",
    "from tensorflow.keras import Input\n",
    "import pandas as pd\n",
    "\n",
    "PAT = pd.read_csv('PAT.txt', sep = \"\\n\", engine='python')\n",
    "SBP = pd.read_csv('SBP.txt', sep = \"\\n\", engine='python')\n",
    "DBP = pd.read_csv('DBP.txt', sep = \"\\n\", engine='python')\n",
    "\n",
    "#ABP = pd.concat([SBP, DBP], axis = 1)"
   ]
  },
  {
   "cell_type": "code",
   "execution_count": null,
   "id": "1b271c5a",
   "metadata": {
    "scrolled": true
   },
   "outputs": [],
   "source": [
    "print(PAT)"
   ]
  },
  {
   "cell_type": "code",
   "execution_count": 2,
   "id": "7fefa82a",
   "metadata": {
    "scrolled": true
   },
   "outputs": [],
   "source": [
    "train_index = int(0.7*len(PAT))\n",
    "\n",
    "pat_train = PAT.iloc[:train_index]\n",
    "pat_test = PAT.iloc[train_index:]\n",
    "sbp_train = SBP.iloc[:train_index]\n",
    "sbp_test = SBP.iloc[train_index:]\n",
    "dbp_train = DBP.iloc[:train_index]\n",
    "dbp_test = DBP.iloc[train_index:]"
   ]
  },
  {
   "cell_type": "code",
   "execution_count": null,
   "id": "ddeedf0a",
   "metadata": {},
   "outputs": [],
   "source": [
    "print(PAT.loc[1])"
   ]
  },
  {
   "cell_type": "code",
   "execution_count": null,
   "id": "ce04bc87",
   "metadata": {
    "scrolled": true
   },
   "outputs": [],
   "source": [
    "###first\n",
    "pat_input = Input(shape=(1,), name='PAT')\n",
    "x = layers.Dense(64, activation='relu')(pat_input)\n",
    "x = layers.Dense(32, activation='relu')(x)\n",
    "\n",
    "sbp_prediction  = layers.Dense(1, name='SBP')(x)\n",
    "dbp_prediction = layers.Dense(1, name='DBP')(x)\n",
    "\n",
    "model = models.Model(pat_input, [sbp_prediction, dbp_prediction])\n",
    "model.summary()"
   ]
  },
  {
   "cell_type": "code",
   "execution_count": null,
   "id": "7c720b00",
   "metadata": {},
   "outputs": [],
   "source": [
    "###second\n",
    "pat_input = Input(shape=(1,), name='PAT')\n",
    "sbp_prediction  = layers.Dense(1, activation='sigmoid' name='SBP')(pat_input)\n",
    "dbp_prediction  = layers.Dense(1, activation='sigmoid', name='DBP')(pat_input)\n",
    "model=models.Model(pat_input, [sbp_prediction, dbp_prediction])\n",
    "model.summary()"
   ]
  },
  {
   "cell_type": "code",
   "execution_count": 3,
   "id": "4602a7ca",
   "metadata": {
    "scrolled": false
   },
   "outputs": [
    {
     "name": "stdout",
     "output_type": "stream",
     "text": [
      "Model: \"model\"\n",
      "__________________________________________________________________________________________________\n",
      "Layer (type)                    Output Shape         Param #     Connected to                     \n",
      "==================================================================================================\n",
      "PAT (InputLayer)                [(None, 1)]          0                                            \n",
      "__________________________________________________________________________________________________\n",
      "embedding (Embedding)           (None, 1, 512)       1024        PAT[0][0]                        \n",
      "__________________________________________________________________________________________________\n",
      "lstm (LSTM)                     (None, 32)           69760       embedding[0][0]                  \n",
      "__________________________________________________________________________________________________\n",
      "dense (Dense)                   (None, 64)           2112        lstm[0][0]                       \n",
      "__________________________________________________________________________________________________\n",
      "dense_1 (Dense)                 (None, 64)           4160        dense[0][0]                      \n",
      "__________________________________________________________________________________________________\n",
      "dense_2 (Dense)                 (None, 64)           4160        dense_1[0][0]                    \n",
      "__________________________________________________________________________________________________\n",
      "SBP (Dense)                     (None, 1)            65          dense_2[0][0]                    \n",
      "__________________________________________________________________________________________________\n",
      "DBP (Dense)                     (None, 1)            65          dense_2[0][0]                    \n",
      "==================================================================================================\n",
      "Total params: 81,346\n",
      "Trainable params: 81,346\n",
      "Non-trainable params: 0\n",
      "__________________________________________________________________________________________________\n"
     ]
    }
   ],
   "source": [
    "###third\n",
    "\n",
    "pat_input = Input(shape=(1,), dtype='float64', name='PAT')\n",
    "x = layers.Embedding(output_dim=512, input_dim=2)(pat_input)\n",
    "lstm_out = layers.LSTM(32)(x)\n",
    "x = layers.Dense(64, activation='relu')(lstm_out)\n",
    "x = layers.Dense(64, activation='relu')(x)\n",
    "x = layers.Dense(64, activation='relu')(x)\n",
    "sbp_prediction  = layers.Dense(1, name='SBP')(x)\n",
    "dbp_prediction  = layers.Dense(1, name='DBP')(x)\n",
    "\n",
    "model = models.Model(pat_input, [sbp_prediction, dbp_prediction])\n",
    "model.summary()"
   ]
  },
  {
   "cell_type": "code",
   "execution_count": 4,
   "id": "8d9538e5",
   "metadata": {},
   "outputs": [],
   "source": [
    "model.compile(optimizer='rmsprop', loss='mse')"
   ]
  },
  {
   "cell_type": "code",
   "execution_count": 5,
   "id": "2a2a6483",
   "metadata": {
    "scrolled": false
   },
   "outputs": [
    {
     "name": "stdout",
     "output_type": "stream",
     "text": [
      "Epoch 1/50\n",
      "6023/6023 [==============================] - 25s 4ms/step - loss: 250.6880 - SBP_loss: 195.5430 - DBP_loss: 55.1456\n",
      "Epoch 2/50\n",
      "6023/6023 [==============================] - 25s 4ms/step - loss: 176.5105 - SBP_loss: 138.7396 - DBP_loss: 37.7706\n",
      "Epoch 3/50\n",
      "6023/6023 [==============================] - 36s 6ms/step - loss: 176.0102 - SBP_loss: 138.4009 - DBP_loss: 37.6093\n",
      "Epoch 4/50\n",
      "6023/6023 [==============================] - 46s 8ms/step - loss: 175.5535 - SBP_loss: 138.0735 - DBP_loss: 37.4803\n",
      "Epoch 5/50\n",
      "6023/6023 [==============================] - 24s 4ms/step - loss: 174.9138 - SBP_loss: 137.6010 - DBP_loss: 37.3130\n",
      "Epoch 6/50\n",
      "6023/6023 [==============================] - 28s 5ms/step - loss: 174.1309 - SBP_loss: 137.0049 - DBP_loss: 37.1259\n",
      "Epoch 7/50\n",
      "6023/6023 [==============================] - 41s 7ms/step - loss: 173.8487 - SBP_loss: 136.7858 - DBP_loss: 37.0629\n",
      "Epoch 8/50\n",
      "6023/6023 [==============================] - 28s 5ms/step - loss: 173.4272 - SBP_loss: 136.5226 - DBP_loss: 36.9047\n",
      "Epoch 9/50\n",
      "6023/6023 [==============================] - 26s 4ms/step - loss: 173.2193 - SBP_loss: 136.3130 - DBP_loss: 36.9061\n",
      "Epoch 10/50\n",
      "6023/6023 [==============================] - 35s 6ms/step - loss: 172.8933 - SBP_loss: 136.0554 - DBP_loss: 36.8376\n",
      "Epoch 11/50\n",
      "6023/6023 [==============================] - 35s 6ms/step - loss: 172.9334 - SBP_loss: 136.1127 - DBP_loss: 36.8208\n",
      "Epoch 12/50\n",
      "6023/6023 [==============================] - 25s 4ms/step - loss: 172.6488 - SBP_loss: 135.9051 - DBP_loss: 36.7435\n",
      "Epoch 13/50\n",
      "6023/6023 [==============================] - 31s 5ms/step - loss: 172.5023 - SBP_loss: 135.7879 - DBP_loss: 36.7145\n",
      "Epoch 14/50\n",
      "6023/6023 [==============================] - 44s 7ms/step - loss: 172.2390 - SBP_loss: 135.5724 - DBP_loss: 36.6665\n",
      "Epoch 15/50\n",
      "6023/6023 [==============================] - 27s 4ms/step - loss: 172.3363 - SBP_loss: 135.6718 - DBP_loss: 36.6648\n",
      "Epoch 16/50\n",
      "6023/6023 [==============================] - 28s 5ms/step - loss: 172.0836 - SBP_loss: 135.4918 - DBP_loss: 36.5916\n",
      "Epoch 17/50\n",
      "6023/6023 [==============================] - 41s 7ms/step - loss: 171.9566 - SBP_loss: 135.3493 - DBP_loss: 36.6075\n",
      "Epoch 18/50\n",
      "6023/6023 [==============================] - 29s 5ms/step - loss: 172.1037 - SBP_loss: 135.4732 - DBP_loss: 36.6303\n",
      "Epoch 19/50\n",
      "6023/6023 [==============================] - 26s 4ms/step - loss: 171.8592 - SBP_loss: 135.3158 - DBP_loss: 36.5436\n",
      "Epoch 20/50\n",
      "6023/6023 [==============================] - 36s 6ms/step - loss: 171.8059 - SBP_loss: 135.2784 - DBP_loss: 36.5276\n",
      "Epoch 21/50\n",
      "6023/6023 [==============================] - 35s 6ms/step - loss: 171.6563 - SBP_loss: 135.1377 - DBP_loss: 36.5182\n",
      "Epoch 22/50\n",
      "6023/6023 [==============================] - 26s 4ms/step - loss: 171.4887 - SBP_loss: 134.9949 - DBP_loss: 36.4937\n",
      "Epoch 23/50\n",
      "6023/6023 [==============================] - 32s 5ms/step - loss: 171.5452 - SBP_loss: 135.0288 - DBP_loss: 36.5167\n",
      "Epoch 24/50\n",
      "6023/6023 [==============================] - 42s 7ms/step - loss: 171.4326 - SBP_loss: 134.9332 - DBP_loss: 36.4998\n",
      "Epoch 25/50\n",
      "6023/6023 [==============================] - 26s 4ms/step - loss: 171.3045 - SBP_loss: 134.8477 - DBP_loss: 36.4568\n",
      "Epoch 26/50\n",
      "6023/6023 [==============================] - 32s 5ms/step - loss: 171.2420 - SBP_loss: 134.8044 - DBP_loss: 36.4373\n",
      "Epoch 27/50\n",
      "6023/6023 [==============================] - 46s 8ms/step - loss: 171.2125 - SBP_loss: 134.7628 - DBP_loss: 36.4498\n",
      "Epoch 28/50\n",
      "6023/6023 [==============================] - 32s 5ms/step - loss: 171.0119 - SBP_loss: 134.5922 - DBP_loss: 36.4196\n",
      "Epoch 29/50\n",
      "6023/6023 [==============================] - 43s 7ms/step - loss: 171.0803 - SBP_loss: 134.6710 - DBP_loss: 36.4095\n",
      "Epoch 30/50\n",
      "6023/6023 [==============================] - 52s 9ms/step - loss: 171.1159 - SBP_loss: 134.6703 - DBP_loss: 36.4456\n",
      "Epoch 31/50\n",
      "6023/6023 [==============================] - 41s 7ms/step - loss: 170.8804 - SBP_loss: 134.5155 - DBP_loss: 36.3644\n",
      "Epoch 32/50\n",
      "6023/6023 [==============================] - 58s 10ms/step - loss: 171.0649 - SBP_loss: 134.6894 - DBP_loss: 36.3757\n",
      "Epoch 33/50\n",
      "6023/6023 [==============================] - 35s 6ms/step - loss: 171.0959 - SBP_loss: 134.7198 - DBP_loss: 36.3762\n",
      "Epoch 34/50\n",
      "6023/6023 [==============================] - 56s 9ms/step - loss: 170.8726 - SBP_loss: 134.5274 - DBP_loss: 36.3448\n",
      "Epoch 35/50\n",
      "6023/6023 [==============================] - 31s 5ms/step - loss: 170.8796 - SBP_loss: 134.5499 - DBP_loss: 36.3297\n",
      "Epoch 36/50\n",
      "6023/6023 [==============================] - 31s 5ms/step - loss: 170.8478 - SBP_loss: 134.5229 - DBP_loss: 36.3250\n",
      "Epoch 37/50\n",
      "6023/6023 [==============================] - 47s 8ms/step - loss: 170.8666 - SBP_loss: 134.5542 - DBP_loss: 36.3128\n",
      "Epoch 38/50\n",
      "6023/6023 [==============================] - 36s 6ms/step - loss: 170.8909 - SBP_loss: 134.5541 - DBP_loss: 36.3363\n",
      "Epoch 39/50\n",
      "6023/6023 [==============================] - 33s 6ms/step - loss: 170.7729 - SBP_loss: 134.4427 - DBP_loss: 36.3300\n",
      "Epoch 40/50\n",
      "6023/6023 [==============================] - 53s 9ms/step - loss: 170.7867 - SBP_loss: 134.4722 - DBP_loss: 36.3146\n",
      "Epoch 41/50\n",
      "6023/6023 [==============================] - 31s 5ms/step - loss: 170.6653 - SBP_loss: 134.3478 - DBP_loss: 36.3176\n",
      "Epoch 42/50\n",
      "6023/6023 [==============================] - 36s 6ms/step - loss: 170.4885 - SBP_loss: 134.2103 - DBP_loss: 36.2782 1s - loss: 170.6418  - ETA: 0s - loss: 170.7499 \n",
      "Epoch 43/50\n",
      "6023/6023 [==============================] - 44s 7ms/step - loss: 170.5300 - SBP_loss: 134.2873 - DBP_loss: 36.2427\n",
      "Epoch 44/50\n",
      "6023/6023 [==============================] - 30s 5ms/step - loss: 170.5467 - SBP_loss: 134.2546 - DBP_loss: 36.2925\n",
      "Epoch 45/50\n",
      "6023/6023 [==============================] - 39s 7ms/step - loss: 170.4874 - SBP_loss: 134.2267 - DBP_loss: 36.2602\n",
      "Epoch 46/50\n",
      "6023/6023 [==============================] - 52s 9ms/step - loss: 170.4373 - SBP_loss: 134.2198 - DBP_loss: 36.2173 3s - loss: 170 - ETA: 1s - loss: 170.2\n",
      "Epoch 47/50\n",
      "6023/6023 [==============================] - 33s 6ms/step - loss: 170.6037 - SBP_loss: 134.3278 - DBP_loss: 36.2759\n",
      "Epoch 48/50\n",
      "6023/6023 [==============================] - 50s 8ms/step - loss: 170.4313 - SBP_loss: 134.1923 - DBP_loss: 36.2390\n",
      "Epoch 49/50\n",
      "6023/6023 [==============================] - 37s 6ms/step - loss: 170.4139 - SBP_loss: 134.1727 - DBP_loss: 36.2412\n",
      "Epoch 50/50\n",
      "6023/6023 [==============================] - 38s 6ms/step - loss: 170.4681 - SBP_loss: 134.2228 - DBP_loss: 36.2457 0s - loss: 170.5067 - SBP_loss: 134.2571 - DBP_l\n"
     ]
    }
   ],
   "source": [
    "hist = model.fit(pat_train, [sbp_train, dbp_train], epochs=50, batch_size=16)"
   ]
  },
  {
   "cell_type": "code",
   "execution_count": 8,
   "id": "b0bca755",
   "metadata": {
    "scrolled": true
   },
   "outputs": [
    {
     "data": {
      "image/png": "[encoded data removed]",
      "text/plain": [
       "<Figure size 432x288 with 1 Axes>"
      ]
     },
     "metadata": {
      "needs_background": "light"
     },
     "output_type": "display_data"
    }
   ],
   "source": [
    "import matplotlib.pyplot as plt\n",
    "\n",
    "plt.plot(hist.history['loss'])\n",
    "plt.ylim(0.0, 300)\n",
    "plt.ylabel('loss')\n",
    "plt.xlabel('epoch')\n",
    "plt.legend(['train'], loc='upper left')\n",
    "plt.show()"
   ]
  },
  {
   "cell_type": "code",
   "execution_count": 13,
   "id": "2db337a5",
   "metadata": {
    "scrolled": true
   },
   "outputs": [
    {
     "name": "stdout",
     "output_type": "stream",
     "text": [
      "2582/2582 [==============================] - 5s 2ms/step - loss: 1370.9048 - SBP_loss: 1154.0148 - DBP_loss: 216.8884\n",
      "loss : [1370.90478515625, 1154.0147705078125, 216.888427734375]\n"
     ]
    }
   ],
   "source": [
    "loss = model.evaluate(pat_test, [sbp_test, dbp_test], batch_size=16)\n",
    "print('loss : ' + str(loss))"
   ]
  },
  {
   "cell_type": "code",
   "execution_count": 14,
   "id": "cd18c0dd",
   "metadata": {
    "scrolled": false
   },
   "outputs": [
    {
     "name": "stdout",
     "output_type": "stream",
     "text": [
      "True : \n",
      "SBP    110.9377\n",
      "Name: 72, dtype: float64\n",
      "DBP    49.8787\n",
      "Name: 72, dtype: float64\n",
      "Predict:\n",
      "SBP   [114.27921]\n",
      "DBP   [63.382534]\n"
     ]
    }
   ],
   "source": [
    "xhat_idx = 72\n",
    "xhat = PAT.iloc[xhat_idx]\n",
    "yhat = model.predict(xhat)\n",
    "\n",
    "print('True : \\n' + str(SBP.iloc[xhat_idx]) + '\\n' + str(DBP.iloc[xhat_idx]))\n",
    "print('Predict:\\n' + 'SBP   ' + str(yhat[0][0]) + '\\nDBP   ' + str(yhat[1][0]))"
   ]
  },
  {
   "cell_type": "code",
   "execution_count": 29,
   "id": "b5cf356f",
   "metadata": {},
   "outputs": [
    {
     "data": {
      "image/png": "[encoded data removed]",
      "text/plain": [
       "<Figure size 432x288 with 1 Axes>"
      ]
     },
     "metadata": {
      "needs_background": "light"
     },
     "output_type": "display_data"
    }
   ],
   "source": [
    "y_pred = model.predict(pat_test)\n",
    "sbp_test_pred = y_pred[0]\n",
    "dbp_test_pred = y_pred[1]\n",
    "plt.scatter(pat_test, sbp_test_pred-sbp_test, c='blue', marker='o', label='SBP')\n",
    "plt.scatter(pat_test, dbp_test_pred-dbp_test, c='lightgreen', marker='o', label='DBP')\n",
    "plt.xlabel('predict')\n",
    "plt.ylabel('residual')\n",
    "plt.hlines(y=0, xmin=-10, xmax=50, lw=2, color='red')\n",
    "plt.xlim([0,1.5])\n",
    "plt.legend(loc=2)\n",
    "plt.show()"
   ]
  },
  {
   "cell_type": "code",
   "execution_count": null,
   "id": "c3f4022a",
   "metadata": {},
   "outputs": [],
   "source": [
    "model.save('ECG_PPG_ABP.h5')"
   ]
  }
 ],
 "metadata": {
  "kernelspec": {
   "display_name": "Python 3",
   "language": "python",
   "name": "python3"
  },
  "language_info": {
   "codemirror_mode": {
    "name": "ipython",
    "version": 3
   },
   "file_extension": ".py",
   "mimetype": "text/x-python",
   "name": "python",
   "nbconvert_exporter": "python",
   "pygments_lexer": "ipython3",
   "version": "3.8.8"
  }
 },
 "nbformat": 4,
 "nbformat_minor": 5
}
